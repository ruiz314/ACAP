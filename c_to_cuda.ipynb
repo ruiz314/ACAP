{
  "nbformat": 4,
  "nbformat_minor": 0,
  "metadata": {
    "colab": {
      "provenance": [],
      "gpuType": "T4",
      "include_colab_link": true
    },
    "kernelspec": {
      "name": "python3",
      "display_name": "Python 3"
    },
    "language_info": {
      "name": "python"
    },
    "accelerator": "GPU"
  },
  "cells": [
    {
      "cell_type": "markdown",
      "metadata": {
        "id": "view-in-github",
        "colab_type": "text"
      },
      "source": [
        "<a href=\"https://colab.research.google.com/github/ruiz314/ACAP/blob/main/c_to_cuda.ipynb\" target=\"_parent\"><img src=\"https://colab.research.google.com/assets/colab-badge.svg\" alt=\"Open In Colab\"/></a>"
      ]
    },
    {
      "cell_type": "markdown",
      "source": [
        "# Getting started with CUDA\n",
        "\n",
        "In this notebook, we dive into basic CUDA programming in C. If you don't know C well, don't worry, the code is straightforward with a focus on the CUDA considerations. Doing the exercises and following the examples can help with low-level understanding, which can often be abstracted away by the equivalent Python libraries.\n",
        "\n",
        "## Resources\n",
        "\n",
        "We can do all exercises on the free `T4` GPU on Colab.\n",
        "\n",
        "Let's check we have the Nvidia CUDA Compiler Driver (NVCC) installed:"
      ],
      "metadata": {
        "id": "tnL5NMYITkDo"
      }
    },
    {
      "cell_type": "code",
      "source": [
        "!nvcc --version"
      ],
      "metadata": {
        "id": "YiprhHaDTjX4",
        "outputId": "39542267-b45e-4cc7-c8bd-12ac725dd041",
        "colab": {
          "base_uri": "https://localhost:8080/"
        }
      },
      "execution_count": 1,
      "outputs": [
        {
          "output_type": "stream",
          "name": "stdout",
          "text": [
            "nvcc: NVIDIA (R) Cuda compiler driver\n",
            "Copyright (c) 2005-2024 NVIDIA Corporation\n",
            "Built on Thu_Jun__6_02:18:23_PDT_2024\n",
            "Cuda compilation tools, release 12.5, V12.5.82\n",
            "Build cuda_12.5.r12.5/compiler.34385749_0\n"
          ]
        }
      ]
    },
    {
      "cell_type": "code",
      "source": [
        "!pip install nvcc4jupyter"
      ],
      "metadata": {
        "id": "fLUoUO7cVu_o"
      },
      "execution_count": null,
      "outputs": []
    },
    {
      "cell_type": "code",
      "source": [
        "%load_ext nvcc4jupyter"
      ],
      "metadata": {
        "id": "znEdqj5BV4Xy"
      },
      "execution_count": null,
      "outputs": []
    },
    {
      "cell_type": "markdown",
      "source": [
        "## Writing and running C code in a Colab\n",
        "\n",
        "Thanks to the `nvcc4jupyter` extension, we can run C/C++ code from our notebook cells.\n",
        "\n",
        "Simply annotate each code cell with `%%cuda` at the top.\n",
        "\n",
        "Syntax checking may mean a lot of read and yellow lines on our code, since it's focused on Python code, so it's best to turn this feature off:\n",
        "Settings -> Editor -> Code diagnostics -> None.\n",
        "\n",
        "## Hello, World!"
      ],
      "metadata": {
        "id": "FcykuBJZUbIQ"
      }
    },
    {
      "cell_type": "code",
      "source": [
        "%%cuda\n",
        "\n",
        "#include <stdio.h>\n",
        "\n",
        "void hello()\n",
        "{\n",
        "  printf(\"Hello from the CPU.\\n\");\n",
        "}\n",
        "\n",
        "int main()\n",
        "{\n",
        "  hello();\n",
        "  return 0;\n",
        "}"
      ],
      "metadata": {
        "id": "pB27oYQ4WAKi",
        "outputId": "b7790132-a364-4430-c7a0-7fd0bb206c70",
        "colab": {
          "base_uri": "https://localhost:8080/"
        }
      },
      "execution_count": 2,
      "outputs": [
        {
          "output_type": "stream",
          "name": "stderr",
          "text": [
            "UsageError: Cell magic `%%cuda` not found.\n"
          ]
        }
      ]
    },
    {
      "cell_type": "code",
      "source": [],
      "metadata": {
        "id": "FHS2KtxU43f9"
      },
      "execution_count": null,
      "outputs": []
    },
    {
      "cell_type": "markdown",
      "source": [
        "## and from the GPU\n",
        "\n",
        "Let's adjust the code to make it run on the GPU.\n",
        "\n",
        "We will need to annotate functions with\n",
        "\n",
        "`__global__`\n",
        "\n",
        "and synchronize our code on the completion of the kernel using the method\n",
        "\n",
        "`cudaDeviceSynchronize();`\n"
      ],
      "metadata": {
        "id": "-y-bSoxsWxb5"
      }
    },
    {
      "cell_type": "code",
      "source": [
        "%%cuda\n",
        "\n",
        "#include <stdio.h>\n",
        "\n",
        "__global__ void helloGPU()\n",
        "{\n",
        "  printf(\"Hello from the GPU.\\n\");\n",
        "}\n",
        "\n",
        "int main()\n",
        "{\n",
        "  helloGPU<<<1, 1>>>();\n",
        "  cudaDeviceSynchronize();\n",
        "}\n"
      ],
      "metadata": {
        "id": "6TWryfzTXQLR"
      },
      "execution_count": null,
      "outputs": []
    },
    {
      "cell_type": "markdown",
      "source": [
        "## Blocks and threads\n",
        "\n",
        "You may be wondering why we have triple angle brackets in the function call:\n",
        "\n",
        "`<<<1, 1>>>`\n",
        "\n",
        "These are required parameters for CUDA denoting the blocks and threads in which our tasks should run.\n",
        "\n",
        "`<<< NUMBER_OF_BLOCKS, NUMBER_OF_THREADS_PER_BLOCK>>>`\n",
        "\n",
        "Threads and blocks are fundamental for organizing parallel computation on GPUs. Threads are the smallest unit of action, each capable of running a single instance of the kernel function.\n",
        "\n",
        "Threads are grouped into blocks, where they can cooperate and share resources.\n",
        "\n",
        "Multiple blocks form a grid, the highest level of CUDA hierarchy.\n",
        "\n",
        "\n",
        "`kernelA <<<1, 1>>>()` runs one block with a single thread so will run only once.\n",
        "\n",
        "`kernelB <<<1, 10>>>()` runs one block with 10 threads and will run 10 times.\n",
        "\n",
        "`kernelC <<<10, 1>>>()` runs 10 thread blocks, each with a single thread so will run 10 times.\n",
        "\n",
        "`kernelD <<<10, 10>>>()` runs 10 blocks which each have 10 thread, so run 100 times.\n",
        "\n",
        "The next example illustrates the use of threads for parallel action. Experiment with changing the `<<<blocks, threads>>>` and see the results."
      ],
      "metadata": {
        "id": "HgEEx4_lYUo_"
      }
    },
    {
      "cell_type": "code",
      "source": [
        "%%cuda\n",
        "\n",
        "#include <stdio.h>\n",
        "\n",
        "__global__ void printInts()\n",
        "{\n",
        "  for(int i=0; i<10; i++)\n",
        "  {\n",
        "      printf(\"%d \", i);\n",
        "  }\n",
        "}\n",
        "\n",
        "int main()\n",
        "{\n",
        "  printInts<<<1, 1>>>();\n",
        "  cudaDeviceSynchronize();\n",
        "}\n"
      ],
      "metadata": {
        "id": "DyNxJRk_gP_d"
      },
      "execution_count": null,
      "outputs": []
    },
    {
      "cell_type": "markdown",
      "source": [
        "## Threads and indexes\n",
        "\n",
        "Each thread has an index denoting its place in a block. Blocks also are indexed, and grouped into a grid.\n",
        "\n",
        "There are useful methods for identifying these indexes:\n",
        "\n",
        "`threadIdx.x` : identifies the index of the thread\n",
        "`blockIdx.x` : identifies the index of the block\n",
        "`blockDim.x` : represents the number of threads in a block\n",
        "\n",
        "For example, here is a classical loop:\n"
      ],
      "metadata": {
        "id": "ubJtCKsreJJO"
      }
    },
    {
      "cell_type": "code",
      "source": [
        "%%cuda\n",
        "\n",
        "#include <stdio.h>\n",
        "\n",
        "void loop(int n)\n",
        "{\n",
        "    for(int i=0; i<n; i++)\n",
        "  {\n",
        "      printf(\"This is loop cycle %d \", i);\n",
        "  }\n",
        "}\n",
        "\n",
        "int main()\n",
        "{\n",
        "  loop(10);\n",
        "}"
      ],
      "metadata": {
        "id": "WGnrdLJgf5Hi"
      },
      "execution_count": null,
      "outputs": []
    },
    {
      "cell_type": "markdown",
      "source": [
        "We can accelerate this operation by launching the iterations in parallel, a *multi-block loop*. Let's use two blocks of threads.\n",
        "\n",
        "Here, `blockIdx.x * blockDim.x + threadIdx.x` gives threads unique indexes in a grid."
      ],
      "metadata": {
        "id": "EutExroFgLUS"
      }
    },
    {
      "cell_type": "code",
      "source": [
        "%%cuda\n",
        "\n",
        "#include <stdio.h>\n",
        "\n",
        "__global__ void loop()\n",
        "{\n",
        "  int i = blockIdx.x * blockDim.x + threadIdx.x;\n",
        "  printf(\"This is loop cycle %d\\n\", i);\n",
        "}\n",
        "\n",
        "int main()\n",
        "{\n",
        "\n",
        "  loop<<<2, 5>>>();\n",
        "  cudaDeviceSynchronize();\n",
        "}\n"
      ],
      "metadata": {
        "id": "XFiX0r_KdrIu"
      },
      "execution_count": null,
      "outputs": []
    },
    {
      "cell_type": "markdown",
      "source": [
        "## Allocating memory\n",
        "\n",
        "CUDA version 6 and above has simplified memory allocation for both the CPU host and as or or many GPU devices with little additional work necessary by the developer.\n",
        "\n",
        "C uses calls to `malloc` and `free` to allocate and liberate memory; we simply  replace these with `cudaMallocManaged` and `cudaFree`."
      ],
      "metadata": {
        "id": "aXjfTlK_gtSn"
      }
    },
    {
      "cell_type": "code",
      "source": [
        "%%cuda\n",
        "\n",
        "#include <stdio.h>\n",
        "#include <stdlib.h>\n",
        "\n",
        "// CPU-only\n",
        "\n",
        "int square(int x)\n",
        "{\n",
        "  return x = x * x;\n",
        "}\n",
        "\n",
        "int main()\n",
        "{\n",
        "    int N = 100000;\n",
        "    size_t size = N * sizeof(int);\n",
        "    int *a = (int *)malloc(size);\n",
        "\n",
        "    // Fill array with numbers 1-20\n",
        "    for (int i = 0; i < N; i++) {\n",
        "        a[i] = i + 1;\n",
        "    }\n",
        "\n",
        "    // Square each number and print\n",
        "    printf(\"Original -> Squared\\n\");\n",
        "    for (int i = 0; i < N; i++) {\n",
        "        int result = square(a[i]);\n",
        "        printf(\"%2d -> %4d\\n\", a[i], result);\n",
        "    }\n",
        "    free(a);\n",
        "    return 0;\n",
        "}\n"
      ],
      "metadata": {
        "id": "6gTky-5biMAf"
      },
      "execution_count": null,
      "outputs": []
    },
    {
      "cell_type": "markdown",
      "source": [
        "## Profiling\n",
        "\n",
        "Let's create an executable with the same code so we can profile and time it. To do that, we write a file using cell magic functions, compile and run."
      ],
      "metadata": {
        "id": "fdjoSpOLzAVm"
      }
    },
    {
      "cell_type": "code",
      "source": [
        "%%writefile square.c\n",
        "\n",
        "#include <stdio.h>\n",
        "#include <stdlib.h>\n",
        "\n",
        "// CPU-only\n",
        "\n",
        "int square(int x)\n",
        "{\n",
        "  return x = x * x;\n",
        "}\n",
        "\n",
        "int main()\n",
        "{\n",
        "    int N = 100000;\n",
        "    size_t size = N * sizeof(int);\n",
        "    int *a = (int *)malloc(size);\n",
        "\n",
        "    // Fill array with numbers 1-20\n",
        "    for (int i = 0; i < N; i++) {\n",
        "        a[i] = i + 1;\n",
        "    }\n",
        "\n",
        "    // Square each number and print\n",
        "    printf(\"Original -> Squared\\n\");\n",
        "    for (int i = 0; i < N; i++) {\n",
        "        int result = square(a[i]);\n",
        "        printf(\"%2d -> %4d\\n\", a[i], result);\n",
        "    }\n",
        "    free(a);\n",
        "    return 0;\n",
        "}"
      ],
      "metadata": {
        "id": "M6F_QNrFvSJ_"
      },
      "execution_count": null,
      "outputs": []
    },
    {
      "cell_type": "code",
      "source": [
        "!gcc square.c -o square"
      ],
      "metadata": {
        "id": "qlfi5r0ovPmD"
      },
      "execution_count": null,
      "outputs": []
    },
    {
      "cell_type": "markdown",
      "source": [
        "## Time it"
      ],
      "metadata": {
        "id": "P739m1YtzM2f"
      }
    },
    {
      "cell_type": "code",
      "source": [
        "!time ./square"
      ],
      "metadata": {
        "id": "oJHNh5RVwK0A"
      },
      "execution_count": null,
      "outputs": []
    },
    {
      "cell_type": "markdown",
      "source": [
        "## Exercise: CUDA version\n",
        "\n",
        "Let's use `cudaMallocManaged` and `cudaFree`. Developers often prefix variables to be put on the device with `d_`, we will write `device_` to make this clear."
      ],
      "metadata": {
        "id": "0Fw8TsktkXNk"
      }
    },
    {
      "cell_type": "code",
      "source": [
        "%%cuda\n",
        "\n",
        "#include <stdio.h>\n",
        "#include <stdlib.h>\n",
        "\n",
        "// Accelerated\n",
        "\n",
        "int N = 100000;\n",
        "size_t size = N * sizeof(int);\n",
        "\n",
        "int *device_a;\n",
        "\n",
        "/*\n",
        " Here is our earlier square function:\n",
        " int square(int x)\n",
        "{\n",
        "  return x = x * x;\n",
        "}\n",
        " */\n",
        "\n",
        "// Initialize the array\n",
        "void init(int *a, int N)\n",
        "{\n",
        "  int i;\n",
        "  for (i = 0; i < N; ++i)\n",
        "  {\n",
        "    a[i] = i;\n",
        "  }\n",
        "}\n",
        "\n",
        "/*\n",
        " Here is our earlier square function:\n",
        " int square(int x)\n",
        "{\n",
        "  return x = x * x;\n",
        "}\n",
        "How can we make this into a CUDA function?\n",
        "Remember the threadIdx.x etc methods to\n",
        "create a unique index for each thread across all blocks\n",
        " */\n",
        "\n",
        "__global__ void square_kernel(int *device_a, int n)\n",
        "{\n",
        "    // initialize an index variable\n",
        "    // Your code here;\n",
        "    if (idx < n) {\n",
        "        // square the device array at the index\n",
        "        // Your code here\n",
        "    }\n",
        "}\n",
        "\n",
        "// Use `a` on the CPU and/or on any GPU in the accelerated system.\n",
        "\n",
        "int main() {\n",
        "    // Use cudaMallocManaged to allocate memory for the device array\n",
        "    // and the size variable\n",
        "    // Your code here\n",
        "\n",
        "    // Initialize the array\n",
        "    for (int i = 0; i < N; i++) {\n",
        "        device_a[i] = i + 1;  // Values will be 1, 2, 3, ..., 10\n",
        "    }\n",
        "\n",
        "    int threadsPerBlock = 256;\n",
        "    int blocksPerGrid = (N + threadsPerBlock - 1) / threadsPerBlock;\n",
        "    square_kernel<<<blocksPerGrid, threadsPerBlock>>>(device_a, N);\n",
        "\n",
        "    cudaDeviceSynchronize();\n",
        "\n",
        "    printf(\"Squared array:\\n\");\n",
        "    for (int i = 0; i < N; i++) {\n",
        "        printf(\"%d \", device_a[i]);\n",
        "    }\n",
        "\n",
        "    cudaFree(device_a);\n",
        "\n",
        "    return 0;\n",
        "}\n",
        "\n"
      ],
      "metadata": {
        "id": "QW4mt_aZEYzK"
      },
      "execution_count": null,
      "outputs": []
    },
    {
      "cell_type": "markdown",
      "source": [
        "## Solution"
      ],
      "metadata": {
        "id": "tGGHYD3KHjVu"
      }
    },
    {
      "cell_type": "code",
      "source": [
        "%%cuda\n",
        "\n",
        "#include <stdio.h>\n",
        "#include <stdlib.h>\n",
        "\n",
        "// Accelerated\n",
        "\n",
        "int N = 100000;\n",
        "size_t size = N * sizeof(int);\n",
        "\n",
        "int *device_a;\n",
        "\n",
        "__global__ void square_kernel(int *device_a, int n)\n",
        "{\n",
        "    int idx = threadIdx.x + blockIdx.x * blockDim.x;\n",
        "    if (idx < n) {\n",
        "        device_a[idx] = device_a[idx] * device_a[idx];\n",
        "    }\n",
        "}\n",
        "\n",
        "// Use `a` on the CPU and/or on any GPU in the accelerated system.\n",
        "\n",
        "int main() {\n",
        "    // Note the address of `a` is passed as first argument.\n",
        "    cudaMallocManaged(&device_a, size);\n",
        "\n",
        "    // Initialize the array\n",
        "    for (int i = 0; i < N; i++) {\n",
        "        device_a[i] = i + 1;  // Values will be 1, 2, 3, ..., 10\n",
        "    }\n",
        "\n",
        "    int threadsPerBlock = 8;\n",
        "    int blocksPerGrid = (N + threadsPerBlock - 1) / threadsPerBlock;\n",
        "    square_kernel<<<blocksPerGrid, threadsPerBlock>>>(device_a, N);\n",
        "\n",
        "    cudaDeviceSynchronize();\n",
        "\n",
        "    printf(\"Squared array:\\n\");\n",
        "    for (int i = 0; i < N; i++) {\n",
        "        printf(\"%d \", device_a[i]);\n",
        "    }\n",
        "\n",
        "    cudaFree(device_a);\n",
        "\n",
        "    return 0;\n",
        "}\n",
        "\n"
      ],
      "metadata": {
        "id": "GT7agwx-i4ep"
      },
      "execution_count": null,
      "outputs": []
    },
    {
      "cell_type": "markdown",
      "source": [
        "Let's take the same approach to time our CUDA equivalent `square` function."
      ],
      "metadata": {
        "id": "HhWxYdpPzQU_"
      }
    },
    {
      "cell_type": "code",
      "source": [
        "%%writefile square.cu\n",
        "\n",
        "#include <stdio.h>\n",
        "#include <stdlib.h>\n",
        "\n",
        "// Accelerated\n",
        "\n",
        "int N = 100000;\n",
        "size_t size = N * sizeof(int);\n",
        "\n",
        "int *device_a;\n",
        "\n",
        "__global__ void square_kernel(int *device_a, int n)\n",
        "{\n",
        "    int idx = threadIdx.x + blockIdx.x * blockDim.x;\n",
        "    if (idx < n) {\n",
        "        device_a[idx] = device_a[idx] * device_a[idx];\n",
        "    }\n",
        "}\n",
        "\n",
        "// Use `a` on the CPU and/or on any GPU in the accelerated system.\n",
        "\n",
        "int main() {\n",
        "    // Note the address of `a` is passed as first argument.\n",
        "    cudaMallocManaged(&device_a, size);\n",
        "\n",
        "    // Initialize the array\n",
        "    for (int i = 0; i < N; i++) {\n",
        "        device_a[i] = i + 1;  // Values will be 1, 2, 3, ..., 10\n",
        "    }\n",
        "\n",
        "    int threadsPerBlock = 8;\n",
        "    int blocksPerGrid = (N + threadsPerBlock - 1) / threadsPerBlock;\n",
        "    square_kernel<<<blocksPerGrid, threadsPerBlock>>>(device_a, N);\n",
        "\n",
        "    cudaDeviceSynchronize();\n",
        "\n",
        "    printf(\"Squared array:\\n\");\n",
        "    for (int i = 0; i < N; i++) {\n",
        "        printf(\"%d \", device_a[i]);\n",
        "    }\n",
        "\n",
        "    cudaFree(device_a);\n",
        "\n",
        "    return 0;\n",
        "}"
      ],
      "metadata": {
        "id": "6MTFHAqKwrBv"
      },
      "execution_count": null,
      "outputs": []
    },
    {
      "cell_type": "code",
      "source": [
        "!nvcc -o cuda_square square.cu"
      ],
      "metadata": {
        "id": "h0Z5fQEiwuLW"
      },
      "execution_count": null,
      "outputs": []
    },
    {
      "cell_type": "code",
      "source": [
        "!nvprof ./cuda_square"
      ],
      "metadata": {
        "id": "kqeRp_iEw27X"
      },
      "execution_count": null,
      "outputs": []
    },
    {
      "cell_type": "code",
      "source": [
        "!time ./cuda_square"
      ],
      "metadata": {
        "id": "sHZQZcmoxMIu"
      },
      "execution_count": null,
      "outputs": []
    },
    {
      "cell_type": "markdown",
      "source": [
        "## Grid stride\n",
        "\n",
        "Let's remind ourselves: grids are the highest level of the GPU hierarchy:\n",
        "\n",
        "Threads -> Blocks -> Grids\n",
        "\n",
        "Often in CUDA programming, the number of threads in a grid is smaller than the data upon which we operate.\n",
        "\n",
        "If we have an array of 100 elements to do something with, and a grid of 25 threads, each grid will have to perform computation 4 times.\n",
        "\n",
        "A thread at index 20 in the grid would:\n",
        "\n",
        "* Perform its operation (eg squaring the element) on element 20 of the array\n",
        "* Increment its index by 25, the size of the grid, to 45\n",
        "* Perform its operation on element 45 of the array\n",
        "* Increment its index by 25, to 70\n",
        "* Perform its operation on element 70 of the array\n",
        "* Increment its index by 25, to 95\n",
        "* Perform its operation on element 95 of the array\n",
        "* Stop its work, since 120 is out of range for the array\n",
        "\n",
        "We can use the CUDA variable `gridDim.x` to calculate the number of blocks in the grid. Then we calculate the number of threads in each block, using\n",
        "\n",
        "```\n",
        "gridDim.x * blockDim.x\n",
        "```\n",
        "\n",
        "Here is a grid stride loop in a kernel:\n",
        "\n",
        "```c\n",
        "__global__ void kernel(int *a, int N)\n",
        "{\n",
        "  int indexInGrid = threadIdx.x + blockIdx.x * blockDim.x;\n",
        "  int gridStride = gridDim.x * blockDim.x;\n",
        "\n",
        "  for (int i = indexInGrid; i < N; i += gridStride)\n",
        "  {\n",
        "    // do something to a[i];\n",
        "  }\n",
        "}\n",
        "```"
      ],
      "metadata": {
        "id": "goaNYWLAPtip"
      }
    },
    {
      "cell_type": "markdown",
      "source": [
        "## Exercise\n",
        "\n",
        "For this exercise, we use the `%%writefile` magic function to create a file so we can then generate an outputs for a visualization, rather than running it inline with `%%cuda`."
      ],
      "metadata": {
        "id": "tvezV9yK7nNd"
      }
    },
    {
      "cell_type": "code",
      "source": [
        "%%writefile grid_stride.cu\n",
        "\n",
        "#include <stdio.h>\n",
        "\n",
        "void init(int *a, int N)\n",
        "{\n",
        "  int i;\n",
        "  for (i = 0; i < N; ++i)\n",
        "  {\n",
        "    a[i] = i;\n",
        "  }\n",
        "}\n",
        "\n",
        "__global__\n",
        "void squareElements(int *a, int N)\n",
        "{\n",
        "\n",
        "  /*\n",
        "   * Use a grid-stride loop to ensure each thread works\n",
        "   * on more than one array element\n",
        "   */\n",
        "\n",
        "  int idx = // Your code here\n",
        "  int stride = // Your code here\n",
        "\n",
        "  for (int i = idx; i < N; i += stride)\n",
        "  {\n",
        "    int old_value = a[i];\n",
        "    a[i] *= i;\n",
        "    printf(\"Thread %d (Block %d, Thread in Block %d) processing element %d. Old value: %d, New value: %d\\n\",\n",
        "           idx, blockIdx.x, threadIdx.x, i, old_value, a[i]);\n",
        "  }\n",
        "}\n",
        "\n",
        "bool checkElementsSquared(int *a, int N)\n",
        "{\n",
        "  int i;\n",
        "  for (i = 0; i < N; ++i)\n",
        "  {\n",
        "    if (a[i] != i*i) return false;\n",
        "  }\n",
        "  return true;\n",
        "}\n",
        "\n",
        "int main()\n",
        "{\n",
        "  int N = 500;\n",
        "  int *a;\n",
        "\n",
        "  size_t size = N * sizeof(int);\n",
        "\n",
        "  // Use cudaMallocManaged to allocate memory for the array\n",
        "  // and the size variable\n",
        "  // Your code her\n",
        "\n",
        "  init(a, N);\n",
        "\n",
        "  // The size of this grid is 356 (32 x 8)\n",
        "  size_t threads_per_block = 32;\n",
        "  size_t number_of_blocks = 8;\n",
        "\n",
        "  squareElements<<<number_of_blocks, threads_per_block>>>(a, N);\n",
        "  cudaDeviceSynchronize();\n",
        "\n",
        "  bool areSquared = checkElementsSquared(a, N);\n",
        "  printf(\"All elements were doubled? %s\\n\", areSquared ? \"TRUE\" : \"FALSE\");\n",
        "\n",
        "  cudaFree(a);\n",
        "}\n"
      ],
      "metadata": {
        "id": "8mukmHl47mvv"
      },
      "execution_count": null,
      "outputs": []
    },
    {
      "cell_type": "markdown",
      "source": [
        "## Solution\n",
        "\n"
      ],
      "metadata": {
        "id": "A2YiWezgwfMF"
      }
    },
    {
      "cell_type": "code",
      "source": [
        "%%writefile grid_stride.cu\n",
        "\n",
        "#include <stdio.h>\n",
        "\n",
        "void init(int *a, int N)\n",
        "{\n",
        "  int i;\n",
        "  for (i = 0; i < N; ++i)\n",
        "  {\n",
        "    a[i] = i;\n",
        "  }\n",
        "}\n",
        "\n",
        "__global__\n",
        "void squareElements(int *a, int N)\n",
        "{\n",
        "\n",
        "  /*\n",
        "   * Use a grid-stride loop to ensure each thread works\n",
        "   * on more than one array element\n",
        "   */\n",
        "\n",
        "  int idx = blockIdx.x * blockDim.x + threadIdx.x;\n",
        "  int stride = gridDim.x * blockDim.x;\n",
        "\n",
        "  for (int i = idx; i < N; i += stride)\n",
        "  {\n",
        "    int old_value = a[i];\n",
        "    a[i] *= i;\n",
        "    printf(\"Thread %d (Block %d, Thread in Block %d) processing element %d. Old value: %d, New value: %d\\n\",\n",
        "           idx, blockIdx.x, threadIdx.x, i, old_value, a[i]);\n",
        "  }\n",
        "}\n",
        "\n",
        "bool checkElementsSquared(int *a, int N)\n",
        "{\n",
        "  int i;\n",
        "  for (i = 0; i < N; ++i)\n",
        "  {\n",
        "    if (a[i] != i*i) return false;\n",
        "  }\n",
        "  return true;\n",
        "}\n",
        "\n",
        "int main()\n",
        "{\n",
        "  int N = 500;\n",
        "  int *a;\n",
        "\n",
        "  size_t size = N * sizeof(int);\n",
        "  cudaMallocManaged(&a, size);\n",
        "\n",
        "  init(a, N);\n",
        "\n",
        "  // The size of this grid is 356 (32 x 8)\n",
        "  size_t threads_per_block = 32;\n",
        "  size_t number_of_blocks = 8;\n",
        "\n",
        "  squareElements<<<number_of_blocks, threads_per_block>>>(a, N);\n",
        "  cudaDeviceSynchronize();\n",
        "\n",
        "  bool areSquared = checkElementsSquared(a, N);\n",
        "  printf(\"All elements were doubled? %s\\n\", areSquared ? \"TRUE\" : \"FALSE\");\n",
        "\n",
        "  cudaFree(a);\n",
        "}\n"
      ],
      "metadata": {
        "id": "rGp9on3NOFYl"
      },
      "execution_count": null,
      "outputs": []
    },
    {
      "cell_type": "code",
      "source": [
        "!nvcc -o grid_stride grid_stride.cu\n",
        "!./grid_stride > output.txt"
      ],
      "metadata": {
        "id": "KaV4V28519rG"
      },
      "execution_count": null,
      "outputs": []
    },
    {
      "cell_type": "markdown",
      "source": [
        "## Visualizing the grid stride"
      ],
      "metadata": {
        "id": "3132K_ho8mAi"
      }
    },
    {
      "cell_type": "code",
      "source": [
        "import pandas as pd\n",
        "import matplotlib.pyplot as plt\n",
        "import seaborn as sns\n",
        "import re\n",
        "from google.colab import files\n",
        "%matplotlib inline\n",
        "\n",
        "def parse_line(line):\n",
        "    pattern = r\"Thread (\\d+) \\(Block (\\d+), Thread in Block (\\d+)\\) processing element (\\d+)\\. Old value: (\\d+), New value: (\\d+)\"\n",
        "    match = re.search(pattern, line)\n",
        "    if match:\n",
        "        return {\n",
        "            'Thread ID': int(match.group(1)),\n",
        "            'Block ID': int(match.group(2)),\n",
        "            'Thread in Block': int(match.group(3)),\n",
        "            'Element Index': int(match.group(4)),\n",
        "            'Old Value': int(match.group(5)),\n",
        "            'New Value': int(match.group(6))\n",
        "        }\n",
        "    return None\n",
        "\n",
        "# Read the output file and parse it into a DataFrame\n",
        "data = []\n",
        "print(\"Reading file...\")\n",
        "with open('output.txt', 'r') as f:\n",
        "    content = f.read()\n",
        "    print(f\"File content (first 500 characters):\\n{content[:500]}\")\n",
        "\n",
        "    # Use regex to find all matches in the entire content\n",
        "    pattern = r\"Thread (\\d+) \\(Block (\\d+), Thread in Block (\\d+)\\) processing element (\\d+)\\. Old value: (\\d+), New value: (\\d+)\"\n",
        "    matches = re.finditer(pattern, content)\n",
        "\n",
        "    for i, match in enumerate(matches, 1):\n",
        "        data.append({\n",
        "            'Thread ID': int(match.group(1)),\n",
        "            'Block ID': int(match.group(2)),\n",
        "            'Thread in Block': int(match.group(3)),\n",
        "            'Element Index': int(match.group(4)),\n",
        "            'Old Value': int(match.group(5)),\n",
        "            'New Value': int(match.group(6))\n",
        "        })\n",
        "        if i % 100 == 0:\n",
        "            print(f\"Processed {i} matches...\")\n",
        "\n",
        "print(f\"Number of parsed data points: {len(data)}\")\n",
        "\n",
        "df = pd.DataFrame(data)\n",
        "\n",
        "# Print DataFrame info for debugging\n",
        "print(\"\\nDataFrame Info:\")\n",
        "print(df.info())\n",
        "\n",
        "print(\"\\nFirst few rows of the DataFrame:\")\n",
        "print(df.head())\n",
        "\n",
        "if df.empty:\n",
        "    print(\"The DataFrame is empty. No visualizations will be created.\")\n",
        "else:\n",
        "    # Create a scatter plot\n",
        "    plt.figure(figsize=(12, 8))\n",
        "    sns.scatterplot(data=df, x='Element Index', y='Thread ID', hue='Block ID', palette='viridis', s=50)\n",
        "    plt.title('Grid Stride Pattern Visualization')\n",
        "    plt.xlabel('Array Element Index')\n",
        "    plt.ylabel('Thread ID')\n",
        "    plt.legend(title='Block ID', bbox_to_anchor=(1.05, 1), loc='upper left')\n",
        "    plt.tight_layout()\n",
        "    plt.show()\n",
        "\n",
        "    # Create a heatmap to show the distribution of work across threads and blocks\n",
        "    plt.figure(figsize=(12, 8))\n",
        "    heatmap_data = df.pivot_table(values='Element Index', index='Block ID', columns='Thread in Block', aggfunc='count')\n",
        "    sns.heatmap(heatmap_data, cmap='YlOrRd', annot=True, fmt='d', cbar_kws={'label': 'Number of Elements Processed'})\n",
        "    plt.title('Distribution of Work Across Threads and Blocks')\n",
        "    plt.xlabel('Thread in Block')\n",
        "    plt.ylabel('Block ID')\n",
        "    plt.tight_layout()\n",
        "    plt.show()\n",
        "\n",
        "    # Calculate and print the stride\n",
        "    stride = df.groupby('Thread ID')['Element Index'].diff().dropna().mode().iloc[0]\n",
        "    print(f\"\\nStride (most common difference between consecutive elements for a thread): {stride}\")\n",
        "\n",
        "print(\"Script execution completed.\")"
      ],
      "metadata": {
        "id": "_-3h0kML7hj_"
      },
      "execution_count": null,
      "outputs": []
    }
  ]
}